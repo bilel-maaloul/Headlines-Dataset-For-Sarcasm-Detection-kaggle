{
 "cells": [
  {
   "cell_type": "code",
   "execution_count": 219,
   "metadata": {},
   "outputs": [],
   "source": [
    "import json\n",
    "import tensorflow as tf\n",
    "from tensorflow.keras.preprocessing.text import Tokenizer\n",
    "from tensorflow.keras.preprocessing.sequence import pad_sequences\n",
    "from sklearn.model_selection import train_test_split\n",
    "import pandas as pd \n",
    "import numpy as np\n",
    "import matplotlib.pyplot as plt\n",
    "from sklearn.metrics import confusion_matrix\n",
    "import seaborn\n"
   ]
  },
  {
   "cell_type": "code",
   "execution_count": 220,
   "metadata": {},
   "outputs": [],
   "source": [
    "def parse_data(file):\n",
    "    for l in open(file,'r'):\n",
    "        yield json.loads(l)\n",
    "        \n",
    "\n",
    "data = list(parse_data('sar.json'))"
   ]
  },
  {
   "cell_type": "code",
   "execution_count": 221,
   "metadata": {},
   "outputs": [
    {
     "data": {
      "text/html": [
       "<div>\n",
       "<style scoped>\n",
       "    .dataframe tbody tr th:only-of-type {\n",
       "        vertical-align: middle;\n",
       "    }\n",
       "\n",
       "    .dataframe tbody tr th {\n",
       "        vertical-align: top;\n",
       "    }\n",
       "\n",
       "    .dataframe thead th {\n",
       "        text-align: right;\n",
       "    }\n",
       "</style>\n",
       "<table border=\"1\" class=\"dataframe\">\n",
       "  <thead>\n",
       "    <tr style=\"text-align: right;\">\n",
       "      <th></th>\n",
       "      <th>headline</th>\n",
       "      <th>is_sarcastic</th>\n",
       "    </tr>\n",
       "  </thead>\n",
       "  <tbody>\n",
       "    <tr>\n",
       "      <th>0</th>\n",
       "      <td>the 'roseanne' revival catches up to our thorn...</td>\n",
       "      <td>0</td>\n",
       "    </tr>\n",
       "    <tr>\n",
       "      <th>1</th>\n",
       "      <td>mom starting to fear son's web series closest ...</td>\n",
       "      <td>1</td>\n",
       "    </tr>\n",
       "    <tr>\n",
       "      <th>2</th>\n",
       "      <td>boehner just wants wife to listen, not come up...</td>\n",
       "      <td>1</td>\n",
       "    </tr>\n",
       "    <tr>\n",
       "      <th>3</th>\n",
       "      <td>j.k. rowling wishes snape happy birthday in th...</td>\n",
       "      <td>0</td>\n",
       "    </tr>\n",
       "    <tr>\n",
       "      <th>4</th>\n",
       "      <td>advancing the world's women</td>\n",
       "      <td>0</td>\n",
       "    </tr>\n",
       "  </tbody>\n",
       "</table>\n",
       "</div>"
      ],
      "text/plain": [
       "                                            headline  is_sarcastic\n",
       "0  the 'roseanne' revival catches up to our thorn...             0\n",
       "1  mom starting to fear son's web series closest ...             1\n",
       "2  boehner just wants wife to listen, not come up...             1\n",
       "3  j.k. rowling wishes snape happy birthday in th...             0\n",
       "4                        advancing the world's women             0"
      ]
     },
     "execution_count": 221,
     "metadata": {},
     "output_type": "execute_result"
    }
   ],
   "source": [
    "df = pd.DataFrame(data)\n",
    "df.drop('article_link',axis=1,inplace=True)\n",
    "df.head()"
   ]
  },
  {
   "cell_type": "code",
   "execution_count": 222,
   "metadata": {},
   "outputs": [],
   "source": [
    "x=(df['headline'])\n",
    "y=df['is_sarcastic']\n",
    "x_train,x_test,y_train,y_test=train_test_split(x,y,train_size=0.8,stratify=y)"
   ]
  },
  {
   "cell_type": "code",
   "execution_count": 223,
   "metadata": {},
   "outputs": [],
   "source": [
    "\n",
    "padding_type='post'\n",
    "tokenizer= Tokenizer(10000,oov_token='<OOV>')\n",
    "tokenizer.fit_on_texts(x_train)\n",
    "sequences=tokenizer.texts_to_sequences(x_train)\n",
    "train_paded = pad_sequences(sequences,padding=padding_type,maxlen=100)\n",
    "\n",
    "\n",
    "sequences=tokenizer.texts_to_sequences(x_test)\n",
    "test_paded=pad_sequences(sequences,padding=padding_type,maxlen=100)\n",
    "\n",
    "\n"
   ]
  },
  {
   "cell_type": "code",
   "execution_count": 224,
   "metadata": {},
   "outputs": [],
   "source": [
    "model=tf.keras.Sequential([\n",
    "    tf.keras.layers.Embedding(10000,16,input_length=100),\n",
    "     tf.keras.layers.Dropout(0.2),\n",
    "    tf.keras.layers.GlobalAveragePooling1D(),\n",
    "    tf.keras.layers.Dense(128, activation = 'relu'),\n",
    "    tf.keras.layers.Dropout(0.5),\n",
    "    tf.keras.layers.Dense(64, activation = 'relu'),\n",
    "    tf.keras.layers.Dropout(0.25),\n",
    "    tf.keras.layers.Dense(32, activation = 'relu'),\n",
    "    tf.keras.layers.Dropout(0.2),\n",
    "    tf.keras.layers.Dense(1, activation = 'sigmoid'),\n",
    "])\n",
    "model.compile(loss='binary_crossentropy',optimizer='adam',metrics=['accuracy'])"
   ]
  },
  {
   "cell_type": "code",
   "execution_count": 225,
   "metadata": {},
   "outputs": [
    {
     "name": "stdout",
     "output_type": "stream",
     "text": [
      "Model: \"sequential_30\"\n",
      "_________________________________________________________________\n",
      " Layer (type)                Output Shape              Param #   \n",
      "=================================================================\n",
      " embedding_30 (Embedding)    (None, 100, 16)           160000    \n",
      "                                                                 \n",
      " dropout_8 (Dropout)         (None, 100, 16)           0         \n",
      "                                                                 \n",
      " global_average_pooling1d_2   (None, 16)               0         \n",
      " (GlobalAveragePooling1D)                                        \n",
      "                                                                 \n",
      " dense_69 (Dense)            (None, 128)               2176      \n",
      "                                                                 \n",
      " dropout_9 (Dropout)         (None, 128)               0         \n",
      "                                                                 \n",
      " dense_70 (Dense)            (None, 64)                8256      \n",
      "                                                                 \n",
      " dropout_10 (Dropout)        (None, 64)                0         \n",
      "                                                                 \n",
      " dense_71 (Dense)            (None, 32)                2080      \n",
      "                                                                 \n",
      " dropout_11 (Dropout)        (None, 32)                0         \n",
      "                                                                 \n",
      " dense_72 (Dense)            (None, 1)                 33        \n",
      "                                                                 \n",
      "=================================================================\n",
      "Total params: 172,545\n",
      "Trainable params: 172,545\n",
      "Non-trainable params: 0\n",
      "_________________________________________________________________\n"
     ]
    }
   ],
   "source": [
    "model.summary()"
   ]
  },
  {
   "cell_type": "code",
   "execution_count": 226,
   "metadata": {},
   "outputs": [
    {
     "name": "stdout",
     "output_type": "stream",
     "text": [
      "Epoch 1/10\n",
      "668/668 [==============================] - 2s 3ms/step - loss: 0.6006 - accuracy: 0.6469 - val_loss: 0.3808 - val_accuracy: 0.8370\n",
      "Epoch 2/10\n",
      "668/668 [==============================] - 2s 3ms/step - loss: 0.3406 - accuracy: 0.8605 - val_loss: 0.3523 - val_accuracy: 0.8469\n",
      "Epoch 3/10\n",
      "668/668 [==============================] - 2s 3ms/step - loss: 0.2668 - accuracy: 0.8960 - val_loss: 0.3546 - val_accuracy: 0.8568\n",
      "Epoch 4/10\n",
      "668/668 [==============================] - 2s 3ms/step - loss: 0.2235 - accuracy: 0.9167 - val_loss: 0.3651 - val_accuracy: 0.8508\n",
      "Epoch 5/10\n",
      "668/668 [==============================] - 2s 3ms/step - loss: 0.1922 - accuracy: 0.9297 - val_loss: 0.4276 - val_accuracy: 0.8209\n",
      "Epoch 6/10\n",
      "668/668 [==============================] - 2s 3ms/step - loss: 0.1705 - accuracy: 0.9394 - val_loss: 0.4184 - val_accuracy: 0.8469\n",
      "Epoch 7/10\n",
      "668/668 [==============================] - 2s 3ms/step - loss: 0.1532 - accuracy: 0.9447 - val_loss: 0.4272 - val_accuracy: 0.8351\n",
      "Epoch 8/10\n",
      "668/668 [==============================] - 2s 3ms/step - loss: 0.1420 - accuracy: 0.9500 - val_loss: 0.4358 - val_accuracy: 0.8433\n",
      "Epoch 9/10\n",
      "668/668 [==============================] - 2s 3ms/step - loss: 0.1266 - accuracy: 0.9586 - val_loss: 0.5133 - val_accuracy: 0.8418\n",
      "Epoch 10/10\n",
      "668/668 [==============================] - 2s 3ms/step - loss: 0.1201 - accuracy: 0.9583 - val_loss: 0.5306 - val_accuracy: 0.8388\n"
     ]
    }
   ],
   "source": [
    "history = model.fit(train_paded,y_train,epochs=10 , validation_data=(test_paded, y_test))"
   ]
  },
  {
   "cell_type": "code",
   "execution_count": 227,
   "metadata": {},
   "outputs": [
    {
     "data": {
      "image/png": "[encoded data removed]",
      "text/plain": [
       "<Figure size 432x288 with 1 Axes>"
      ]
     },
     "metadata": {
      "needs_background": "light"
     },
     "output_type": "display_data"
    },
    {
     "data": {
      "image/png": "[encoded data removed]",
      "text/plain": [
       "<Figure size 432x288 with 1 Axes>"
      ]
     },
     "metadata": {
      "needs_background": "light"
     },
     "output_type": "display_data"
    }
   ],
   "source": [
    "def plot_graphs(history, string):\n",
    "    plt.plot(history.history[string])\n",
    "    plt.plot(history.history['val_'+string])\n",
    "    plt.xlabel(\"Epochs\")\n",
    "    plt.ylabel(string)\n",
    "    plt.legend([string, 'val_'+string])\n",
    "    plt.show()\n",
    "    \n",
    "# Plot the accuracy and loss\n",
    "plot_graphs(history, \"accuracy\")\n",
    "plot_graphs(history, \"loss\")"
   ]
  },
  {
   "cell_type": "code",
   "execution_count": 228,
   "metadata": {},
   "outputs": [],
   "source": [
    "y_pred=model.predict(train_paded)\n"
   ]
  },
  {
   "cell_type": "code",
   "execution_count": 229,
   "metadata": {},
   "outputs": [
    {
     "data": {
      "text/plain": [
       "[1, 0, 0, 0, 0]"
      ]
     },
     "execution_count": 229,
     "metadata": {},
     "output_type": "execute_result"
    }
   ],
   "source": [
    "preds = model.predict(test_paded).flatten()\n",
    "y_predict = []\n",
    "for i in preds:\n",
    "    if i < 0.5:\n",
    "        y_predict.append(0)\n",
    "    else:\n",
    "        y_predict.append(1)\n",
    "y_predict[:5]"
   ]
  },
  {
   "cell_type": "code",
   "execution_count": 230,
   "metadata": {},
   "outputs": [],
   "source": [
    "cm=confusion_matrix(y_test,y_predict)"
   ]
  },
  {
   "cell_type": "code",
   "execution_count": 231,
   "metadata": {},
   "outputs": [
    {
     "data": {
      "text/plain": [
       "<AxesSubplot:>"
      ]
     },
     "execution_count": 231,
     "metadata": {},
     "output_type": "execute_result"
    },
    {
     "data": {
      "image/png": "[encoded data removed]",
      "text/plain": [
       "<Figure size 432x288 with 1 Axes>"
      ]
     },
     "metadata": {
      "needs_background": "light"
     },
     "output_type": "display_data"
    }
   ],
   "source": [
    "seaborn.heatmap(cm, annot=True, cmap='Blues', fmt='d', cbar=False)"
   ]
  }
 ],
 "metadata": {
  "kernelspec": {
   "display_name": "Python 3.9.13 64-bit (microsoft store)",
   "language": "python",
   "name": "python3"
  },
  "language_info": {
   "codemirror_mode": {
    "name": "ipython",
    "version": 3
   },
   "file_extension": ".py",
   "mimetype": "text/x-python",
   "name": "python",
   "nbconvert_exporter": "python",
   "pygments_lexer": "ipython3",
   "version": "3.9.13"
  },
  "orig_nbformat": 4,
  "vscode": {
   "interpreter": {
    "hash": "906f08a64a292017a1bc752a6c736cf19621f74b49b1523d3d21639fa03916fd"
   }
  }
 },
 "nbformat": 4,
 "nbformat_minor": 2
}
